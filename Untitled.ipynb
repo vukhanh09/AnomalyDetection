{
 "cells": [
  {
   "cell_type": "code",
   "execution_count": 2,
   "id": "9323079f",
   "metadata": {},
   "outputs": [
    {
     "name": "stdout",
     "output_type": "stream",
     "text": [
      "Collecting matplotlib\n",
      "  Downloading matplotlib-3.4.2-cp38-cp38-win_amd64.whl (7.1 MB)\n",
      "Collecting cycler>=0.10\n",
      "  Downloading cycler-0.10.0-py2.py3-none-any.whl (6.5 kB)\n",
      "Requirement already satisfied: python-dateutil>=2.7 in f:\\cris\\lib\\site-packages (from matplotlib) (2.8.2)\n",
      "Requirement already satisfied: pyparsing>=2.2.1 in f:\\cris\\lib\\site-packages (from matplotlib) (2.4.7)\n",
      "Collecting pillow>=6.2.0\n",
      "  Downloading Pillow-8.3.1-1-cp38-cp38-win_amd64.whl (3.2 MB)\n",
      "Requirement already satisfied: numpy>=1.16 in f:\\cris\\lib\\site-packages (from matplotlib) (1.21.1)\n",
      "Collecting kiwisolver>=1.0.1\n",
      "  Downloading kiwisolver-1.3.1-cp38-cp38-win_amd64.whl (51 kB)\n",
      "Requirement already satisfied: six in f:\\cris\\lib\\site-packages (from cycler>=0.10->matplotlib) (1.16.0)\n",
      "Installing collected packages: pillow, kiwisolver, cycler, matplotlib\n",
      "Successfully installed cycler-0.10.0 kiwisolver-1.3.1 matplotlib-3.4.2 pillow-8.3.1\n"
     ]
    }
   ],
   "source": [
    "!pip install matplotlib"
   ]
  },
  {
   "cell_type": "code",
   "execution_count": 4,
   "id": "3d036186",
   "metadata": {},
   "outputs": [],
   "source": [
    "%matplotlib inline\n",
    "import pandas as pd\n",
    "import matplotlib.pyplot as plt\n",
    "import numpy as np\n",
    "# import seaborn as sns"
   ]
  },
  {
   "cell_type": "code",
   "execution_count": 19,
   "id": "9b32a6fa",
   "metadata": {},
   "outputs": [
    {
     "data": {
      "text/html": [
       "<div>\n",
       "<style scoped>\n",
       "    .dataframe tbody tr th:only-of-type {\n",
       "        vertical-align: middle;\n",
       "    }\n",
       "\n",
       "    .dataframe tbody tr th {\n",
       "        vertical-align: top;\n",
       "    }\n",
       "\n",
       "    .dataframe thead th {\n",
       "        text-align: right;\n",
       "    }\n",
       "</style>\n",
       "<table border=\"1\" class=\"dataframe\">\n",
       "  <thead>\n",
       "    <tr style=\"text-align: right;\">\n",
       "      <th></th>\n",
       "      <th>sepal_length</th>\n",
       "      <th>sepal_width</th>\n",
       "      <th>petal_length</th>\n",
       "      <th>petal_width</th>\n",
       "      <th>species</th>\n",
       "    </tr>\n",
       "  </thead>\n",
       "  <tbody>\n",
       "    <tr>\n",
       "      <th>0</th>\n",
       "      <td>5.1</td>\n",
       "      <td>3.5</td>\n",
       "      <td>1.4</td>\n",
       "      <td>0.2</td>\n",
       "      <td>Iris-setosa</td>\n",
       "    </tr>\n",
       "    <tr>\n",
       "      <th>1</th>\n",
       "      <td>4.9</td>\n",
       "      <td>3.0</td>\n",
       "      <td>1.4</td>\n",
       "      <td>0.2</td>\n",
       "      <td>Iris-setosa</td>\n",
       "    </tr>\n",
       "    <tr>\n",
       "      <th>2</th>\n",
       "      <td>4.7</td>\n",
       "      <td>3.2</td>\n",
       "      <td>1.3</td>\n",
       "      <td>0.2</td>\n",
       "      <td>Iris-setosa</td>\n",
       "    </tr>\n",
       "    <tr>\n",
       "      <th>3</th>\n",
       "      <td>4.6</td>\n",
       "      <td>3.1</td>\n",
       "      <td>1.5</td>\n",
       "      <td>0.2</td>\n",
       "      <td>Iris-setosa</td>\n",
       "    </tr>\n",
       "    <tr>\n",
       "      <th>4</th>\n",
       "      <td>5.0</td>\n",
       "      <td>3.6</td>\n",
       "      <td>1.4</td>\n",
       "      <td>0.2</td>\n",
       "      <td>Iris-setosa</td>\n",
       "    </tr>\n",
       "  </tbody>\n",
       "</table>\n",
       "</div>"
      ],
      "text/plain": [
       "   sepal_length  sepal_width  petal_length  petal_width      species\n",
       "0           5.1          3.5           1.4          0.2  Iris-setosa\n",
       "1           4.9          3.0           1.4          0.2  Iris-setosa\n",
       "2           4.7          3.2           1.3          0.2  Iris-setosa\n",
       "3           4.6          3.1           1.5          0.2  Iris-setosa\n",
       "4           5.0          3.6           1.4          0.2  Iris-setosa"
      ]
     },
     "execution_count": 19,
     "metadata": {},
     "output_type": "execute_result"
    }
   ],
   "source": [
    "iris = pd.read_csv(\"https://archive.ics.uci.edu/ml/machine-learning-databases/iris/iris.data\",\n",
    "                  header=None)\n",
    "iris.columns = [\"sepal_length\",\"sepal_width\",\n",
    "                'petal_length','petal_width','species']\n",
    "iris.dropna(how='all', inplace=True)\n",
    "iris.head()"
   ]
  },
  {
   "cell_type": "code",
   "execution_count": 111,
   "id": "b240cc48",
   "metadata": {},
   "outputs": [],
   "source": [
    "X = iris.iloc[:, 0:4].values\n",
    "y = iris.species.values"
   ]
  },
  {
   "cell_type": "code",
   "execution_count": 6,
   "id": "6b1d6798",
   "metadata": {},
   "outputs": [],
   "source": [
    "def normalstd(X):\n",
    "    m  = np.mean(X,axis = 0)\n",
    "    s = np.std(X,axis = 0)\n",
    "    return (X-m)/s"
   ]
  },
  {
   "cell_type": "code",
   "execution_count": 16,
   "id": "866ba3a4",
   "metadata": {},
   "outputs": [],
   "source": [
    "X = np.random.rand(2,3)"
   ]
  },
  {
   "cell_type": "code",
   "execution_count": 17,
   "id": "9071d56e",
   "metadata": {},
   "outputs": [],
   "source": [
    "X = normalstd(X)"
   ]
  },
  {
   "cell_type": "code",
   "execution_count": 20,
   "id": "74112f8b",
   "metadata": {},
   "outputs": [],
   "source": [
    "covariance_matrix = np.cov(X)"
   ]
  },
  {
   "cell_type": "code",
   "execution_count": 21,
   "id": "4948a078",
   "metadata": {},
   "outputs": [
    {
     "data": {
      "text/plain": [
       "(2, 2)"
      ]
     },
     "execution_count": 21,
     "metadata": {},
     "output_type": "execute_result"
    }
   ],
   "source": [
    "covariance_matrix.shape"
   ]
  },
  {
   "cell_type": "code",
   "execution_count": 74,
   "id": "eb7d00ff",
   "metadata": {},
   "outputs": [],
   "source": [
    "U,S,V = np.linalg.svd(covariance_matrix)"
   ]
  },
  {
   "cell_type": "code",
   "execution_count": 75,
   "id": "e6fb0c9a",
   "metadata": {},
   "outputs": [],
   "source": [
    "X_new = np.dot(U[:,:3].T, X.T)"
   ]
  },
  {
   "cell_type": "code",
   "execution_count": 76,
   "id": "e652787f",
   "metadata": {},
   "outputs": [],
   "source": [
    "X_new = np.asarray(X_new)"
   ]
  },
  {
   "cell_type": "code",
   "execution_count": 78,
   "id": "81475a7f",
   "metadata": {},
   "outputs": [
    {
     "data": {
      "text/plain": [
       "array([ 2.26454173, -0.5057039 ,  0.12194335])"
      ]
     },
     "execution_count": 78,
     "metadata": {},
     "output_type": "execute_result"
    }
   ],
   "source": [
    "X_new.T[0]"
   ]
  },
  {
   "cell_type": "markdown",
   "id": "ce85e8d7",
   "metadata": {},
   "source": [
    "# Eigendecomposition "
   ]
  },
  {
   "cell_type": "code",
   "execution_count": 115,
   "id": "b4adb8f2",
   "metadata": {},
   "outputs": [
    {
     "name": "stdout",
     "output_type": "stream",
     "text": [
      "Eigenvector: \n",
      " [[ 0.52237162 -0.37231836 -0.72101681  0.26199559]\n",
      " [-0.26335492 -0.92555649  0.24203288 -0.12413481]\n",
      " [ 0.58125401 -0.02109478  0.14089226 -0.80115427]\n",
      " [ 0.56561105 -0.06541577  0.6338014   0.52354627]] \n",
      "\n",
      "Eigenvalues: \n",
      " [2.93035378 0.92740362 0.14834223 0.02074601] \n",
      "\n"
     ]
    }
   ],
   "source": [
    "eigen_values, eigen_vectors = np.linalg.eig(covariance_matrix)\n",
    "print(\"Eigenvector: \\n\",eigen_vectors,\"\\n\")\n",
    "print(\"Eigenvalues: \\n\", eigen_values, \"\\n\")"
   ]
  },
  {
   "cell_type": "code",
   "execution_count": 116,
   "id": "8739ff1b",
   "metadata": {},
   "outputs": [],
   "source": [
    "variance_explained = []\n",
    "for i in eigen_values:\n",
    "     variance_explained.append((i/sum(eigen_values))*100) \n",
    "# print(variance_explained)"
   ]
  },
  {
   "cell_type": "code",
   "execution_count": 117,
   "id": "d113b089",
   "metadata": {},
   "outputs": [],
   "source": [
    "cumulative_variance_explained = np.cumsum(variance_explained)"
   ]
  },
  {
   "cell_type": "code",
   "execution_count": 118,
   "id": "b5d492d5",
   "metadata": {},
   "outputs": [
    {
     "data": {
      "text/plain": [
       "(array([1, 2, 3], dtype=int64),)"
      ]
     },
     "execution_count": 118,
     "metadata": {},
     "output_type": "execute_result"
    }
   ],
   "source": [
    "np.where(cumulative_variance_explained>95)"
   ]
  },
  {
   "cell_type": "code",
   "execution_count": 120,
   "id": "aaf2d262",
   "metadata": {},
   "outputs": [
    {
     "data": {
      "text/plain": [
       "Text(0.5, 1.0, 'Explained variance vs Number of components')"
      ]
     },
     "execution_count": 120,
     "metadata": {},
     "output_type": "execute_result"
    },
    {
     "data": {
      "image/png": "[encoded data removed]",
      "text/plain": [
       "<Figure size 432x288 with 1 Axes>"
      ]
     },
     "metadata": {
      "needs_background": "light"
     },
     "output_type": "display_data"
    }
   ],
   "source": [
    "sns.lineplot(x = range(1,5,1), y=cumulative_variance_explained)\n",
    "plt.xlabel(\"Number of components\")\n",
    "plt.ylabel(\"Cumulative explained variance\")\n",
    "plt.title(\"Explained variance vs Number of components\")"
   ]
  },
  {
   "cell_type": "code",
   "execution_count": 121,
   "id": "43dadccb",
   "metadata": {},
   "outputs": [
    {
     "name": "stdout",
     "output_type": "stream",
     "text": [
      "[[ 0.52237162 -0.37231836 -0.72101681]\n",
      " [-0.26335492 -0.92555649  0.24203288]\n",
      " [ 0.58125401 -0.02109478  0.14089226]\n",
      " [ 0.56561105 -0.06541577  0.6338014 ]]\n"
     ]
    }
   ],
   "source": [
    "projection_matrix = (eigen_vectors.T[:][:3]).T\n",
    "print(projection_matrix)"
   ]
  },
  {
   "cell_type": "code",
   "execution_count": 122,
   "id": "89f19f06",
   "metadata": {},
   "outputs": [
    {
     "data": {
      "text/plain": [
       "array([-2.26454173, -0.5057039 , -0.12194335])"
      ]
     },
     "execution_count": 122,
     "metadata": {},
     "output_type": "execute_result"
    }
   ],
   "source": [
    "X.dot(projection_matrix)[0]"
   ]
  },
  {
   "cell_type": "code",
   "execution_count": 79,
   "id": "571f4092",
   "metadata": {},
   "outputs": [
    {
     "data": {
      "text/plain": [
       "array([ 2.26454173, -0.5057039 ,  0.12194335])"
      ]
     },
     "execution_count": 79,
     "metadata": {},
     "output_type": "execute_result"
    }
   ],
   "source": [
    "X_new.T[0]"
   ]
  },
  {
   "cell_type": "code",
   "execution_count": null,
   "id": "e94e8085",
   "metadata": {},
   "outputs": [],
   "source": []
  }
 ],
 "metadata": {
  "kernelspec": {
   "display_name": "Python 3",
   "language": "python",
   "name": "python3"
  },
  "language_info": {
   "codemirror_mode": {
    "name": "ipython",
    "version": 3
   },
   "file_extension": ".py",
   "mimetype": "text/x-python",
   "name": "python",
   "nbconvert_exporter": "python",
   "pygments_lexer": "ipython3",
   "version": "3.8.8"
  }
 },
 "nbformat": 4,
 "nbformat_minor": 5
}
